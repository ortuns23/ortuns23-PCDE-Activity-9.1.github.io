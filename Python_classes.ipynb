{
 "cells": [
  {
   "cell_type": "markdown",
   "metadata": {
    "deletable": false,
    "editable": false,
    "nbgrader": {
     "checksum": "9d9120bc2edc716a600c06462f2105bf",
     "grade": false,
     "grade_id": "cell-9eded2c8e8c76159",
     "locked": true,
     "schema_version": 1,
     "solution": false
    }
   },
   "source": [
    "# Codio Coding Activity 9.2: Python *Classes*\n",
    "\n",
    "### Learning Outcome Addressed\n",
    "\n",
    "- 4. Implement Python *classes*.\n",
    "\n",
    "\n",
    "## Index:\n",
    "\n",
    "- [Question 1](#Question-1)\n",
    "- [Question 2](#Question-2)\n",
    "- [Question 3](#Question-3)\n",
    "- [Question 4](#Question-4)\n",
    "- [Question 5](#Question-5)\n",
    "- [Question 6](#Question-6)\n",
    "- [Question 7](#Question-7)\n",
    "- [Question 8](#Question-8)\n",
    "- [Question 9](#Question-9)\n",
    "- [Question 10](#Question-10)"
   ]
  },
  {
   "cell_type": "markdown",
   "metadata": {
    "deletable": false,
    "editable": false,
    "nbgrader": {
     "checksum": "be3a75f7a3ad93eb43426ffe25870ac1",
     "grade": false,
     "grade_id": "cell-c1dcb9b0083d2039",
     "locked": true,
     "schema_version": 1,
     "solution": false
    }
   },
   "source": [
    "## Python Classes\n",
    "\n",
    "## Question 1\n",
    "\n",
    "*2 points*\n",
    "\n",
    "Write a Python *class*, *`House`*, with no *attributes* assigned to it.\n",
    "\n",
    "Assign the type of *`House`* to *`ans1a`*. Assign the *`__module__`* *attribute* of the *`House`* *class* to *`ans1b`*.\n",
    "\n",
    "**HINT:** Because *`House`* does not have any *attributes*, you can end its the definition with the keyword *`pass.`*"
   ]
  },
  {
   "cell_type": "code",
   "execution_count": 3,
   "metadata": {
    "deletable": false,
    "nbgrader": {
     "checksum": "77647612c646738ae0b12dc637311564",
     "grade": false,
     "grade_id": "cell-ba251d6cfca23d49",
     "locked": false,
     "schema_version": 1,
     "solution": true
    }
   },
   "outputs": [
    {
     "name": "stdout",
     "output_type": "stream",
     "text": [
      "Type of House: <class 'type'>\n",
      "Module of House: __main__\n"
     ]
    }
   ],
   "source": [
    "### GRADED\n",
    "\n",
    "### YOUR SOLUTION HERE\n",
    "ans1a = None\n",
    "ans1b = None\n",
    "\n",
    "# YOUR CODE HERE\n",
    "class House:\n",
    "    pass\n",
    "\n",
    "ans1a = type(House)\n",
    "ans1b = House.__module__\n",
    "\n",
    "print(\"Type of House:\", ans1a)\n",
    "print(\"Module of House:\", ans1b)"
   ]
  },
  {
   "cell_type": "code",
   "execution_count": null,
   "metadata": {
    "deletable": false,
    "editable": false,
    "nbgrader": {
     "checksum": "9547f4997e93392e8602939691a0b6fc",
     "grade": true,
     "grade_id": "cell-b2546540e8fd6548",
     "locked": true,
     "points": 2,
     "schema_version": 1,
     "solution": false
    }
   },
   "outputs": [],
   "source": []
  },
  {
   "cell_type": "markdown",
   "metadata": {
    "deletable": false,
    "editable": false,
    "nbgrader": {
     "checksum": "7b46a1d452616ed0c4e66bada6d73daa",
     "grade": false,
     "grade_id": "cell-35e44c6eb79cdd19",
     "locked": true,
     "schema_version": 1,
     "solution": false
    }
   },
   "source": [
    "## Question 2\n",
    "\n",
    "*2 points*\n",
    "\n",
    "\n",
    "Modify the Python *class*, *`House`*, so that it has three *attributes*, *`square_footage`*, *`number_of_bedrooms`*, and *`garage`*, with values `1450`, `3`, and `True`, respectively.\n",
    "\n",
    "Assign the member *`square_footage`* of the *class `House`* to *`ans2a`*."
   ]
  },
  {
   "cell_type": "code",
   "execution_count": 6,
   "metadata": {
    "deletable": false,
    "nbgrader": {
     "checksum": "26a1ca66c61b2b93899bb12cf7e2d747",
     "grade": false,
     "grade_id": "cell-ea868952f36fe45e",
     "locked": false,
     "schema_version": 1,
     "solution": true
    }
   },
   "outputs": [
    {
     "name": "stdout",
     "output_type": "stream",
     "text": [
      "1450\n"
     ]
    }
   ],
   "source": [
    "### GRADED\n",
    "\n",
    "### YOUR SOLUTION HERE\n",
    "ans2a = None\n",
    "\n",
    "\n",
    "# YOUR CODE HERE\n",
    "### YOUR SOLUTION HERE\n",
    "ans2a = None\n",
    "\n",
    "# YOUR CODE HERE\n",
    "class House:\n",
    "    def __init__(self):\n",
    "        self.square_footage = 1450\n",
    "        self.number_of_bedrooms = 3\n",
    "        self.garage = True\n",
    "\n",
    "house_instance = House()\n",
    "ans2a = house_instance.square_footage\n",
    "\n",
    "print(ans2a)\n"
   ]
  },
  {
   "cell_type": "code",
   "execution_count": null,
   "metadata": {
    "deletable": false,
    "editable": false,
    "nbgrader": {
     "checksum": "bd6856f5e6bed4c0b79c6309ed3bfade",
     "grade": true,
     "grade_id": "cell-5dac482f64c21807",
     "locked": true,
     "points": 2,
     "schema_version": 1,
     "solution": false
    }
   },
   "outputs": [],
   "source": []
  },
  {
   "cell_type": "markdown",
   "metadata": {
    "deletable": false,
    "editable": false,
    "nbgrader": {
     "checksum": "1a1d7c368b5e9a37167df7347df55d80",
     "grade": false,
     "grade_id": "cell-ff98d6e5440dbb70",
     "locked": true,
     "schema_version": 1,
     "solution": false
    }
   },
   "source": [
    "## Question 3\n",
    "\n",
    "*3 points*\n",
    "\n",
    "The Python *function [`setattr`](https://docs.python.org/3/library/functions.html#setattr)* can be used to modify the *attributes* of a *class*. Its basic syntax reads as follows:\n",
    "\n",
    "```Python\n",
    "setattr = (class_name, attribute_name, updated_value)\n",
    "\n",
    "```\n",
    "\n",
    "Use the *function `setattr`* to modify the Python *class*, *`House`*, so that  *`square_footage`* and *`number_of_bedrooms`* are equal to `1600` and `2`, respectively. Assign these operations to *`ans3a`* and *`ans3b`*, respectively."
   ]
  },
  {
   "cell_type": "code",
   "execution_count": 9,
   "metadata": {
    "deletable": false,
    "nbgrader": {
     "checksum": "1271d7310db10ae93e2b0c35344572ac",
     "grade": false,
     "grade_id": "cell-d79a85864c59f620",
     "locked": false,
     "schema_version": 1,
     "solution": true
    }
   },
   "outputs": [
    {
     "name": "stdout",
     "output_type": "stream",
     "text": [
      "1600\n",
      "2\n"
     ]
    }
   ],
   "source": [
    "### GRADED\n",
    "\n",
    "### YOUR SOLUTION HERE\n",
    "ans3a = None\n",
    "ans3b = None\n",
    "\n",
    "# YOUR CODE HERE\n",
    "setattr(House, 'square_footage', 1600)\n",
    "setattr(House, 'number_of_bedrooms', 2)\n",
    "\n",
    "ans3a = House.square_footage\n",
    "ans3b = House.number_of_bedrooms\n",
    "\n",
    "print(ans3a)\n",
    "print(ans3b)"
   ]
  },
  {
   "cell_type": "code",
   "execution_count": null,
   "metadata": {
    "deletable": false,
    "editable": false,
    "nbgrader": {
     "checksum": "055edb0c3824bd21b3ffa20fe8e54e7f",
     "grade": true,
     "grade_id": "cell-411d7f4fe74c67cb",
     "locked": true,
     "points": 3,
     "schema_version": 1,
     "solution": false
    }
   },
   "outputs": [],
   "source": []
  },
  {
   "cell_type": "markdown",
   "metadata": {
    "deletable": false,
    "editable": false,
    "nbgrader": {
     "checksum": "5b506e7f4b608047b4926a082f92b282",
     "grade": false,
     "grade_id": "cell-1f712ed7f62883f2",
     "locked": true,
     "schema_version": 1,
     "solution": false
    }
   },
   "source": [
    "## Question 4\n",
    "\n",
    "*2 points*\n",
    "\n",
    "The Python *function [`setattr`](https://docs.python.org/3/library/functions.html#setattr)* can be also used to add a new *attribute* to a *class*.\n",
    "\n",
    "Use the *function `setattr`* to add the *attribute* `private_listing` to the *`House` class*. Assign the value `False` to private listing.\n",
    "\n",
    "Check that your code works by assigning the value of the *attribute* `private_listing` to *`ans4.`*\n"
   ]
  },
  {
   "cell_type": "code",
   "execution_count": 11,
   "metadata": {
    "deletable": false,
    "nbgrader": {
     "checksum": "fb9ebce48ef6227f381ef3e44118025c",
     "grade": false,
     "grade_id": "cell-fa01d0bfeed448b4",
     "locked": false,
     "schema_version": 1,
     "solution": true
    }
   },
   "outputs": [
    {
     "name": "stdout",
     "output_type": "stream",
     "text": [
      "False\n"
     ]
    }
   ],
   "source": [
    "### GRADED\n",
    "\n",
    "### YOUR SOLUTION HERE\n",
    "ans4 = None\n",
    "\n",
    "# YOUR CODE HERE\n",
    "setattr(House, 'private_listing', False)\n",
    "\n",
    "ans4 = House.private_listing\n",
    "\n",
    "print(ans4)"
   ]
  },
  {
   "cell_type": "code",
   "execution_count": null,
   "metadata": {
    "deletable": false,
    "editable": false,
    "nbgrader": {
     "checksum": "579d84a56e60a5d1357b713595d33939",
     "grade": true,
     "grade_id": "cell-d393017455bd2390",
     "locked": true,
     "points": 2,
     "schema_version": 1,
     "solution": false
    }
   },
   "outputs": [],
   "source": []
  },
  {
   "cell_type": "markdown",
   "metadata": {
    "deletable": false,
    "editable": false,
    "nbgrader": {
     "checksum": "bc47f75f51aac19147e49faf627aa67d",
     "grade": false,
     "grade_id": "cell-e821a697c65f4518",
     "locked": true,
     "schema_version": 1,
     "solution": false
    }
   },
   "source": [
    "## Question 5\n",
    "\n",
    "*3 points*\n",
    "\n",
    "Use a constructor to re-define the Python *class*, *`House`*. This *class* will have *attributes* *`square_footage`*, *`number_of_bedrooms`*, *`garage`*, and *`private_listing`*.\n",
    "\n",
    "Construct a house, *`ans5`*, that is `930` square feet, has `1` bedroom, has no garage, and is listed as a private listing. Use *booleans* to assign the values to *`garage`* and *`private_listing.`*"
   ]
  },
  {
   "cell_type": "code",
   "execution_count": 14,
   "metadata": {
    "deletable": false,
    "nbgrader": {
     "checksum": "edd339c687d9421834ab4f798ec3cc2f",
     "grade": false,
     "grade_id": "cell-966cf9980800c4b6",
     "locked": false,
     "schema_version": 1,
     "solution": true
    }
   },
   "outputs": [
    {
     "name": "stdout",
     "output_type": "stream",
     "text": [
      "<__main__.House object at 0x791160f20358>\n"
     ]
    }
   ],
   "source": [
    "### GRADED\n",
    "\n",
    "### YOUR SOLUTION HERE\n",
    "ans5 = None\n",
    "\n",
    "\n",
    "# YOUR CODE HERE\n",
    "### YOUR SOLUTION HERE\n",
    "ans5 = None\n",
    "\n",
    "\n",
    "# YOUR CODE HERE\n",
    "class House:\n",
    "    def __init__(self, square_footage, number_of_bedrooms, garage, private_listing):\n",
    "        self.square_footage = square_footage\n",
    "        self.number_of_bedrooms = number_of_bedrooms\n",
    "        self.garage = garage\n",
    "        self.private_listing = private_listing\n",
    "\n",
    "ans5 = House(930, 1, False, True)\n",
    "\n",
    "print(ans5)\n"
   ]
  },
  {
   "cell_type": "code",
   "execution_count": null,
   "metadata": {
    "deletable": false,
    "editable": false,
    "nbgrader": {
     "checksum": "6a6079565374b725c8f9dff2ec9b5f5d",
     "grade": true,
     "grade_id": "cell-36815362d149166d",
     "locked": true,
     "points": 3,
     "schema_version": 1,
     "solution": false
    }
   },
   "outputs": [],
   "source": []
  },
  {
   "cell_type": "markdown",
   "metadata": {
    "deletable": false,
    "editable": false,
    "nbgrader": {
     "checksum": "471f054e247c28a0ea812c1c3781fa3b",
     "grade": false,
     "grade_id": "cell-aa825d9d703cc03d",
     "locked": true,
     "schema_version": 1,
     "solution": false
    }
   },
   "source": [
    "## Question 6\n",
    "\n",
    "*4 points*\n",
    "\n",
    "Add a *function, `property_taxes`*, to the *`House` class* defined above that takes the value stored in *`square_footage`* and multiplies it by `1.67`. This *function* should return a value called *`total_tax`*.\n",
    "\n",
    "Compute the property taxes for *`ans5`* defined in the previous questions and assign the result to *`ans6`*."
   ]
  },
  {
   "cell_type": "code",
   "execution_count": 19,
   "metadata": {
    "deletable": false,
    "nbgrader": {
     "checksum": "853f8f37d51cb8ce16fbd330932da83c",
     "grade": false,
     "grade_id": "cell-73fa2b56664042c7",
     "locked": false,
     "schema_version": 1,
     "solution": true
    }
   },
   "outputs": [
    {
     "name": "stdout",
     "output_type": "stream",
     "text": [
      "1553.1\n"
     ]
    }
   ],
   "source": [
    "### GRADED\n",
    "\n",
    "### YOUR SOLUTION HERE\n",
    "ans6 = None\n",
    "\n",
    "\n",
    "# YOUR CODE HERE\n",
    "class House:\n",
    "    def __init__(self, square_footage, number_of_bedrooms, garage, private_listing):\n",
    "        self.square_footage = square_footage\n",
    "        self.number_of_bedrooms = number_of_bedrooms\n",
    "        self.garage = garage\n",
    "        self.private_listing = private_listing\n",
    "    \n",
    "    def property_taxes(self):\n",
    "        total_tax = self.square_footage * 1.67\n",
    "        return total_tax\n",
    "\n",
    "ans6 = House(930, 1, False, True).property_taxes()\n",
    "\n",
    "print(ans6)\n"
   ]
  },
  {
   "cell_type": "code",
   "execution_count": null,
   "metadata": {
    "deletable": false,
    "editable": false,
    "nbgrader": {
     "checksum": "ebaa03cf00aef819156ce52f6023a943",
     "grade": true,
     "grade_id": "cell-556b5c8f10aafda0",
     "locked": true,
     "points": 4,
     "schema_version": 1,
     "solution": false
    }
   },
   "outputs": [],
   "source": []
  },
  {
   "cell_type": "markdown",
   "metadata": {
    "deletable": false,
    "editable": false,
    "nbgrader": {
     "checksum": "551ff7fc0c690e5c0a4b30254cbc894b",
     "grade": false,
     "grade_id": "cell-a19dd627dcc0d302",
     "locked": true,
     "schema_version": 1,
     "solution": false
    }
   },
   "source": [
    "## Question 7\n",
    "\n",
    "*4 points*\n",
    "\n",
    "Add another *function, `non_bedrooms_area`*, to the *`House` class* defined above that takes the value stored in *`square_footage`*, subtracts the value stored in *`number_of_bedrooms`*, and multiplies the result by `142`. This *function* should return a value called *`non_bedrooms_total_area`*.\n",
    "\n",
    "Compute the property taxes for *`ans5`* defined in the previous question and assign the result to *`ans7`*."
   ]
  },
  {
   "cell_type": "code",
   "execution_count": 22,
   "metadata": {
    "deletable": false,
    "nbgrader": {
     "checksum": "b78d80dbcafd163a3ae8d3f885831789",
     "grade": false,
     "grade_id": "cell-10f391179af46d1a",
     "locked": false,
     "schema_version": 1,
     "solution": true
    }
   },
   "outputs": [
    {
     "name": "stdout",
     "output_type": "stream",
     "text": [
      "131918\n"
     ]
    }
   ],
   "source": [
    "### GRADED\n",
    "\n",
    "### YOUR SOLUTION HERE\n",
    "ans7 = None\n",
    "\n",
    "\n",
    "# YOUR CODE HERE\n",
    "class House:\n",
    "    def __init__(self, square_footage, number_of_bedrooms, garage, private_listing):\n",
    "        self.square_footage = square_footage\n",
    "        self.number_of_bedrooms = number_of_bedrooms\n",
    "        self.garage = garage\n",
    "        self.private_listing = private_listing\n",
    "    \n",
    "    def property_taxes(self):\n",
    "        total_tax = self.square_footage * 1.67\n",
    "        return total_tax\n",
    "    \n",
    "    def non_bedrooms_area(self):\n",
    "        non_bedrooms_total_area = (self.square_footage - self.number_of_bedrooms) * 142\n",
    "        return non_bedrooms_total_area\n",
    "\n",
    "ans7 = House(930, 1, False, True).non_bedrooms_area()\n",
    "\n",
    "print(ans7)\n"
   ]
  },
  {
   "cell_type": "code",
   "execution_count": null,
   "metadata": {
    "deletable": false,
    "editable": false,
    "nbgrader": {
     "checksum": "9d2d9c06250dee1bc929a9888433be09",
     "grade": true,
     "grade_id": "cell-5b2db6510aebe489",
     "locked": true,
     "points": 4,
     "schema_version": 1,
     "solution": false
    }
   },
   "outputs": [],
   "source": []
  },
  {
   "cell_type": "code",
   "execution_count": null,
   "metadata": {},
   "outputs": [],
   "source": []
  }
 ],
 "metadata": {
  "kernelspec": {
   "display_name": "Python 3",
   "language": "python",
   "name": "python3"
  },
  "language_info": {
   "codemirror_mode": {
    "name": "ipython",
    "version": 3
   },
   "file_extension": ".py",
   "mimetype": "text/x-python",
   "name": "python",
   "nbconvert_exporter": "python",
   "pygments_lexer": "ipython3",
   "version": "3.6.9"
  }
 },
 "nbformat": 4,
 "nbformat_minor": 4
}
